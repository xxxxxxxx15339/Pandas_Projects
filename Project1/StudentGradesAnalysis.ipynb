{
 "cells": [
  {
   "cell_type": "code",
   "execution_count": 401,
   "metadata": {},
   "outputs": [],
   "source": [
    "import pandas as pd "
   ]
  },
  {
   "cell_type": "markdown",
   "metadata": {},
   "source": [
    "# Loading the CSV file into the DataFrame :"
   ]
  },
  {
   "cell_type": "code",
   "execution_count": 402,
   "metadata": {},
   "outputs": [],
   "source": [
    "df = pd.read_csv('students_grades.csv')"
   ]
  },
  {
   "cell_type": "markdown",
   "metadata": {},
   "source": [
    "# Accessing Data : \n"
   ]
  },
  {
   "cell_type": "code",
   "execution_count": 403,
   "metadata": {},
   "outputs": [
    {
     "name": "stdout",
     "output_type": "stream",
     "text": [
      "0       Sara\n",
      "1    Youssef\n",
      "2      Imane\n",
      "3       Omar\n",
      "4       Amal\n",
      "5     Rachid\n",
      "6      Hajar\n",
      "Name: Name, dtype: object\n",
      "\n",
      "0    12\n",
      "1     9\n",
      "2    16\n",
      "3    13\n",
      "4    15\n",
      "5     7\n",
      "6    11\n",
      "Name: Math, dtype: int64\n",
      "\n",
      "Name         Youssef\n",
      "Math               9\n",
      "Physics            8\n",
      "Chemistry         10\n",
      "Name: 1, dtype: object\n",
      "\n",
      "9\n"
     ]
    }
   ],
   "source": [
    "# Access a specific column by name :\n",
    "Name_Column = df['Name']\n",
    "print(Name_Column)\n",
    "\n",
    "print(end=\"\\n\")\n",
    "\n",
    "Math_Column = df['Math']\n",
    "print(Math_Column)\n",
    "\n",
    "print(end=\"\\n\")\n",
    "\n",
    "#Access a specific row by index :\n",
    "Youssef_Row = df.iloc[1]\n",
    "print(Youssef_Row)\n",
    "\n",
    "print(end=\"\\n\")\n",
    "\n",
    "# Accessing a specific data :\n",
    "Youssef_Math = df.iloc[1]['Math']\n",
    "print(Youssef_Math)"
   ]
  },
  {
   "cell_type": "markdown",
   "metadata": {},
   "source": [
    "# Calculate the average grade for each student :"
   ]
  },
  {
   "cell_type": "code",
   "execution_count": 404,
   "metadata": {},
   "outputs": [
    {
     "name": "stdout",
     "output_type": "stream",
     "text": [
      "      Name  Math  Physics  Chemistry    Average\n",
      "0     Sara    12       14         15  13.666667\n",
      "1  Youssef     9        8         10   9.000000\n",
      "2    Imane    16       17         14  15.666667\n",
      "3     Omar    13       12         11  12.000000\n",
      "4     Amal    15       18         17  16.666667\n",
      "5   Rachid     7        6          8   7.000000\n",
      "6    Hajar    11       13         12  12.000000\n"
     ]
    }
   ],
   "source": [
    "# Add a new column :\n",
    "df['Average'] = 0\n",
    "\n",
    "# Get the number of columns and rows :\n",
    "num_rows_cols = df.shape  # (rows, columns)\n",
    "num_rows = num_rows_cols[0]\n",
    "num_columns = num_rows_cols[1]\n",
    "\n",
    "# Iterate throught all the values to add the average :\n",
    "    # .iloc gives a copy, so when modifying the actual value use .at\n",
    "#  Methode 1 : (classic one)\n",
    "\"\"\"\n",
    "list_des_matieres = list(df.columns)[1:4]\n",
    "num_des_matieres = int(len(list_des_matieres))\n",
    "for i in range(0, num_rows):\n",
    "    average = 0\n",
    "    for j in list_des_matieres:\n",
    "        average += df.at[i, j]\n",
    "    df.at[i, 'Average'] = int(average/num_des_matieres)\n",
    "\"\"\"                                                    \n",
    "        \n",
    "# Methode 2 : (pandas vectorized operations)\n",
    "    # axis = 0 : columns , axis = 1 : rows (This mean the direction which an operation is executed)\n",
    "list_des_matieres= list(df.columns)[1:4]\n",
    "df['Average'] = df[list_des_matieres].mean(axis=1)\n",
    "\n",
    "print(df)"
   ]
  },
  {
   "cell_type": "markdown",
   "metadata": {},
   "source": [
    "# Limit the floating point precision to 3 :"
   ]
  },
  {
   "cell_type": "code",
   "execution_count": 405,
   "metadata": {},
   "outputs": [],
   "source": [
    "df['Average'] = df['Average'].round(3)"
   ]
  },
  {
   "cell_type": "markdown",
   "metadata": {},
   "source": [
    "# Sort students by their average grade in descending order :"
   ]
  },
  {
   "cell_type": "code",
   "execution_count": 406,
   "metadata": {},
   "outputs": [
    {
     "name": "stdout",
     "output_type": "stream",
     "text": [
      "      Name  Math  Physics  Chemistry  Average\n",
      "4     Amal    15       18         17   16.667\n",
      "2    Imane    16       17         14   15.667\n",
      "0     Sara    12       14         15   13.667\n",
      "3     Omar    13       12         11   12.000\n",
      "6    Hajar    11       13         12   12.000\n",
      "1  Youssef     9        8         10    9.000\n",
      "5   Rachid     7        6          8    7.000\n",
      "\n"
     ]
    },
    {
     "data": {
      "text/plain": [
       "'\\n# sort by index :\\ndf = df.sort_index(ascending=False)\\nprint(df)\\n\\nprint(end=\"\\n\")\\n\\n#sort by 2 columns :\\ndf = df.sort_values(by=[\\'Math\\', \\'Physics\\', \\'Chemistry\\', \\'Average\\'])\\nprint(df)\\n'"
      ]
     },
     "execution_count": 406,
     "metadata": {},
     "output_type": "execute_result"
    }
   ],
   "source": [
    "# sort by Average (one column) :\n",
    "df = df.sort_values(by='Average', ascending=False)\n",
    "print(df)\n",
    "\n",
    "print(end=\"\\n\")\n",
    "\n",
    "\"\"\"\n",
    "# sort by index :\n",
    "df = df.sort_index(ascending=False)\n",
    "print(df)\n",
    "\n",
    "print(end=\"\\n\")\n",
    "\n",
    "#sort by 2 columns :\n",
    "df = df.sort_values(by=['Math', 'Physics', 'Chemistry', 'Average'])\n",
    "print(df)\n",
    "\"\"\""
   ]
  },
  {
   "cell_type": "markdown",
   "metadata": {},
   "source": [
    "# Display Top 3 students :"
   ]
  },
  {
   "cell_type": "code",
   "execution_count": 407,
   "metadata": {},
   "outputs": [
    {
     "name": "stdout",
     "output_type": "stream",
     "text": [
      "    Name  Math  Physics  Chemistry  Average\n",
      "4   Amal    15       18         17   16.667\n",
      "2  Imane    16       17         14   15.667\n",
      "0   Sara    12       14         15   13.667\n",
      "\n",
      "\n",
      "      Name  Math  Physics  Chemistry  Average\n",
      "6    Hajar    11       13         12     12.0\n",
      "1  Youssef     9        8         10      9.0\n",
      "5   Rachid     7        6          8      7.0\n"
     ]
    }
   ],
   "source": [
    "# Printing the top 3 students :\n",
    "print(df.head(3))  # df.head(num) : num = the number of the first rows \n",
    "print(\"\\n\")\n",
    "print(df.tail(3))  # df.tail(num) : num = the number of the last rows"
   ]
  },
  {
   "cell_type": "markdown",
   "metadata": {},
   "source": [
    "# Save the file :\n"
   ]
  },
  {
   "cell_type": "code",
   "execution_count": 408,
   "metadata": {},
   "outputs": [],
   "source": [
    "# Saving the changes into a new CSV file :\n",
    "df.to_csv('students_grades_with_average.csv')"
   ]
  }
 ],
 "metadata": {
  "kernelspec": {
   "display_name": "Python 3",
   "language": "python",
   "name": "python3"
  },
  "language_info": {
   "codemirror_mode": {
    "name": "ipython",
    "version": 3
   },
   "file_extension": ".py",
   "mimetype": "text/x-python",
   "name": "python",
   "nbconvert_exporter": "python",
   "pygments_lexer": "ipython3",
   "version": "3.11.4"
  }
 },
 "nbformat": 4,
 "nbformat_minor": 2
}
